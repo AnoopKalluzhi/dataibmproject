{
 "cells": [
  {
   "cell_type": "markdown",
   "id": "11b7431b-8336-4be6-82c3-3c6407e93307",
   "metadata": {},
   "source": [
    "# Data Science Tools and Ecosystem"
   ]
  },
  {
   "cell_type": "markdown",
   "id": "00b2d5eb-0a0f-4af8-bb90-1be02a73e650",
   "metadata": {},
   "source": [
    "In this notebook, Data Science Tools and Ecosystem are summarized."
   ]
  },
  {
   "cell_type": "markdown",
   "id": "f5ef87aa-21e2-4e02-b1dd-3f818a23c6e4",
   "metadata": {},
   "source": [
    "**Objectives:**\n",
    "- Listing Popular languages Used in Data Science\n",
    "- Listing common Libraries used by Data Scientists\n",
    "- Tabulating Data Science Tools\n",
    "- Performing Arithmetic Calculations by Python"
   ]
  },
  {
   "cell_type": "markdown",
   "id": "a0bd8e24-d6c5-412c-80e2-97a59cb141db",
   "metadata": {},
   "source": [
    "Some of the popular languages that Data Scientists use are:\n",
    "1) Python\n",
    "2) R\n",
    "3) SQL\n",
    "4) Julia"
   ]
  },
  {
   "cell_type": "markdown",
   "id": "6c7748c0-471a-431c-947f-05484f24738c",
   "metadata": {},
   "source": [
    "Some of the commonly used libraries used by Data Scientists include:\n",
    "1) NumPy\n",
    "2) Pandas\n",
    "3) Matplotlib\n",
    "4) Scikit-learn"
   ]
  },
  {
   "cell_type": "markdown",
   "id": "5be29938-f749-46e5-8071-3178b61f8b2f",
   "metadata": {},
   "source": [
    "|Data Science Tools|\n",
    "|--------------------|\n",
    "|VS code             |\n",
    "|R Studio            |\n",
    "|JupyterLab          |"
   ]
  },
  {
   "cell_type": "markdown",
   "id": "b4e93d7d-6795-4af0-8f91-b72bd52b4fbc",
   "metadata": {},
   "source": [
    "### Below are a few examples of evaluating arithmetic expressions in Python"
   ]
  },
  {
   "cell_type": "code",
   "execution_count": 4,
   "id": "a7cec86b-75a0-43f5-b05e-8145f5f9d967",
   "metadata": {},
   "outputs": [
    {
     "data": {
      "text/plain": [
       "17"
      ]
     },
     "execution_count": 4,
     "metadata": {},
     "output_type": "execute_result"
    }
   ],
   "source": [
    "# This a simple arithmetic expression to multiply then add integers:\n",
    "(3*4)+5"
   ]
  },
  {
   "cell_type": "code",
   "execution_count": 10,
   "id": "20d7992f-a622-4c6c-bc8b-669caf73e3aa",
   "metadata": {},
   "outputs": [
    {
     "data": {
      "text/plain": [
       "3.3333333333333335"
      ]
     },
     "execution_count": 10,
     "metadata": {},
     "output_type": "execute_result"
    }
   ],
   "source": [
    "# This will convert 200 minutes to hours by diving by 60:\n",
    "200/(60)"
   ]
  },
  {
   "cell_type": "markdown",
   "id": "2cc9ac6a-e2a6-4a86-8dc3-e61792ce9ff7",
   "metadata": {},
   "source": [
    "## Author\n",
    "ANOOP K"
   ]
  },
  {
   "cell_type": "code",
   "execution_count": null,
   "id": "87524cd9-f0b8-4355-82c6-a90bf4122f13",
   "metadata": {},
   "outputs": [],
   "source": []
  }
 ],
 "metadata": {
  "kernelspec": {
   "display_name": "Python 3 (ipykernel)",
   "language": "python",
   "name": "python3"
  },
  "language_info": {
   "codemirror_mode": {
    "name": "ipython",
    "version": 3
   },
   "file_extension": ".py",
   "mimetype": "text/x-python",
   "name": "python",
   "nbconvert_exporter": "python",
   "pygments_lexer": "ipython3",
   "version": "3.12.7"
  }
 },
 "nbformat": 4,
 "nbformat_minor": 5
}
